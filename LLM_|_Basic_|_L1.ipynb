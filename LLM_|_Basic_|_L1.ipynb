{
  "nbformat": 4,
  "nbformat_minor": 0,
  "metadata": {
    "colab": {
      "provenance": [],
      "authorship_tag": "ABX9TyP51vub4VhfSg3rAo7redBb",
      "include_colab_link": true
    },
    "kernelspec": {
      "name": "python3",
      "display_name": "Python 3"
    },
    "language_info": {
      "name": "python"
    }
  },
  "cells": [
    {
      "cell_type": "markdown",
      "metadata": {
        "id": "view-in-github",
        "colab_type": "text"
      },
      "source": [
        "<a href=\"https://colab.research.google.com/github/nexageapps/LLM/blob/main/LLM_%7C_Basic_%7C_L1.ipynb\" target=\"_parent\"><img src=\"https://colab.research.google.com/assets/colab-badge.svg\" alt=\"Open In Colab\"/></a>"
      ]
    },
    {
      "cell_type": "code",
      "execution_count": 7,
      "metadata": {
        "id": "EkgCnD0oNVjL",
        "colab": {
          "base_uri": "https://localhost:8080/"
        },
        "outputId": "5f165eb8-2ecb-4e39-d661-1253e5435139"
      },
      "outputs": [
        {
          "output_type": "stream",
          "name": "stdout",
          "text": [
            "Total number of character: 20479\n",
            "I HAD always thought Jack Gisburn rather a cheap genius--though a good fellow enough--so it was no \n",
            "['I', 'HAD', 'always', 'thought', 'Jack', 'Gisburn', 'rather', 'a', 'cheap', 'genius', '--', 'though', 'a', 'good', 'fellow', 'enough', '--', 'so', 'it', 'was', 'no', 'great', 'surprise', 'to', 'me', 'to', 'hear', 'that', ',', 'in']\n",
            "4690\n"
          ]
        }
      ],
      "source": [
        "# Author: Karthik Arjun\n",
        "# LinkedIn: https://www.linkedin.com/in/karthik-arjun-a5b4a258/\n",
        "# Comment: Beginner level understanding about LLM\n",
        "# Book Reference: Build a LLM - By Sebastian\n",
        "\n",
        "#Step-1: Import the library functions\n",
        "import os #Helps interact with the operating system — like checking if a file exists.\n",
        "import urllib.request #Allows you to download files and interact with URLs.\n",
        "import re #Python’s regular expressions module.\n",
        "\n",
        "#Step-2: Reference\n",
        "if not os.path.exists(\"the-verdict.txt\"): #File exist??\n",
        "    url = (\"https://raw.githubusercontent.com/rasbt/\"\n",
        "           \"LLMs-from-scratch/main/ch02/01_main-chapter-code/\"\n",
        "           \"the-verdict.txt\")\n",
        "    file_path = \"the-verdict.txt\"\n",
        "    urllib.request.urlretrieve(url, file_path) #This downloads the file from the URL and saves it as the-verdict.txt in your local folder\n",
        "\n",
        "#Step-3: Action\n",
        "    with open(\"the-verdict.txt\", \"r\", encoding=\"utf-8\") as f:\n",
        "      raw_text = f.read()\n",
        "\n",
        "    #open(...) opens the file in read mode (\"r\").\n",
        "    #The with statement makes sure the file is automatically closed after you're done using it\n",
        "    #f is the file object.\n",
        "    #.read() reads the entire contents of the file into a variable named raw_text.\n",
        "\n",
        "preprocessed = re.split(r'([,.:;?_!\"()\\']|--|\\s)', raw_text)\n",
        "preprocessed = [item.strip() for item in preprocessed if item.strip()]\n",
        "    #split by using the regular expression include all punchuations\n",
        "    #.strip() removes leading and trailing whitespace.\n",
        "    #if item.strip() removes empty strings or strings with just spaces.\n",
        "\n",
        "\n",
        "#Step-4: Execution\n",
        "print(\"Total number of character:\", len(raw_text)) #Print the length of the total content\n",
        "print(raw_text[:99]) #Print the first 99 Char\n",
        "print(preprocessed[:30]) #Print the first 30 tokens from the processed text.\n",
        "print(len(preprocessed))\n",
        "\n",
        "#Step-5: Questions\n",
        "\n",
        "#Q1: Total number of character is 20479, then why we have 4690 tokens?\n",
        "#A1: Characters ≠ Tokens\n",
        "    #A character is a single symbol: a letter, number, space, punctuation, etc.\n",
        "    #A token is usually a meaningful chunk, like a word or punctuation mark.\n",
        "      #Splits on whitespace and punctuation, but keeps those as tokens.\n",
        "      #Then removes empty tokens and trims spaces.\n",
        "#----------------------------------------------------------------------------#\n"
      ]
    }
  ]
}