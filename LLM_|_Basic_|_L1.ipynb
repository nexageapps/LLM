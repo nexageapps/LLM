{
  "nbformat": 4,
  "nbformat_minor": 0,
  "metadata": {
    "colab": {
      "provenance": [],
      "authorship_tag": "ABX9TyOZ0xXRIRWoakSxiRhXfzR3",
      "include_colab_link": true
    },
    "kernelspec": {
      "name": "python3",
      "display_name": "Python 3"
    },
    "language_info": {
      "name": "python"
    }
  },
  "cells": [
    {
      "cell_type": "markdown",
      "metadata": {
        "id": "view-in-github",
        "colab_type": "text"
      },
      "source": [
        "<a href=\"https://colab.research.google.com/github/nexageapps/LLM/blob/main/LLM_%7C_Basic_%7C_L1.ipynb\" target=\"_parent\"><img src=\"https://colab.research.google.com/assets/colab-badge.svg\" alt=\"Open In Colab\"/></a>"
      ]
    },
    {
      "cell_type": "code",
      "execution_count": null,
      "metadata": {
        "id": "EkgCnD0oNVjL"
      },
      "outputs": [],
      "source": [
        "# Author: Karthik Arjun\n",
        "# LinkedIn: https://www.linkedin.com/in/karthik-arjun-a5b4a258/\n",
        "# Comment: Beginner Level - Binary Classification using TensorFlow Keras"
      ]
    }
  ]
}